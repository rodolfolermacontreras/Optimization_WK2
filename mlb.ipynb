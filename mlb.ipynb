{
 "cells": [
  {
   "cell_type": "code",
   "execution_count": 1,
   "metadata": {},
   "outputs": [],
   "source": [
    "# MLB Assignment Problem: data\n",
    "\n",
    "NationalLeague = ['WAS', 'PHI', 'ATL', 'FLA', 'PIT', 'CIN', 'STL', 'HOU', 'MIL', 'ARZ', 'LA', 'SF', 'SD', 'COL']\n",
    "AmericanLeague = ['BOS', 'BAL', 'TB', 'TOR', 'CLE', 'DET', 'MIN', 'KC', 'OAK', 'TEX', 'LAA', 'SEA']\n",
    "\n",
    "Distance = {\n",
    "    ('WAS', 'BOS') : 394,\t('WAS', 'BAL') : 30,\t('WAS', 'TB') : 803,\t('WAS', 'TOR') : 358,\t('WAS', 'CLE') : 310,\t('WAS', 'DET') : 408,\t('WAS', 'MIN') : 935,\t('WAS', 'KC') : 936,\t('WAS', 'OAK') : 2428,\t('WAS', 'TEX') : 1178,\t('WAS', 'LAA') : 2276,\t('WAS', 'SEA') : 2330,\n",
    "    ('PHI', 'BOS') : 255,\t('PHI', 'BAL') : 109,\t('PHI', 'TB') : 929,\t('PHI', 'TOR') : 338,\t('PHI', 'CLE') : 369,\t('PHI', 'DET') : 461,\t('PHI', 'MIN') : 988,\t('PHI', 'KC') : 1046,\t('PHI', 'OAK') : 2515,\t('PHI', 'TEX') : 1305,\t('PHI', 'LAA') : 2379,\t('PHI', 'SEA') : 2383,\n",
    "    ('ATL', 'BOS') : 921,\t('ATL', 'BAL') : 557,\t('ATL', 'TB') : 418,\t('ATL', 'TOR') : 724,\t('ATL', 'CLE') : 536,\t('ATL', 'DET') : 575,\t('ATL', 'MIN') : 900,\t('ATL', 'KC') : 676,\t('ATL', 'OAK') : 2127,\t('ATL', 'TEX') : 727,\t('ATL', 'LAA') : 1913,\t('ATL', 'SEA') : 2182,\n",
    "    ('FLA', 'BOS') : 1270,\t('FLA', 'BAL') : 960,\t('FLA', 'TB') : 207,\t('FLA', 'TOR') : 1249,\t('FLA', 'CLE') : 1094,\t('FLA', 'DET') : 1157,\t('FLA', 'MIN') : 1515,\t('FLA', 'KC') : 1241,\t('FLA', 'OAK') : 2571,\t('FLA', 'TEX') : 1109,\t('FLA', 'LAA') : 2297,\t('FLA', 'SEA') : 2732,\n",
    "    ('PIT', 'BOS') : 480,\t('PIT', 'BAL') : 200,\t('PIT', 'TB') : 865,\t('PIT', 'TOR') : 226,\t('PIT', 'CLE') : 115,\t('PIT', 'DET') : 213,\t('PIT', 'MIN') : 740,\t('PIT', 'KC') : 781,\t('PIT', 'OAK') : 2249,\t('PIT', 'TEX') : 1063,\t('PIT', 'LAA') : 2113,\t('PIT', 'SEA') : 2136,\n",
    "    ('CIN', 'BOS') : 739,\t('CIN', 'BAL') : 428,\t('CIN', 'TB') : 782,\t('CIN', 'TOR') : 409,\t('CIN', 'CLE') : 211,\t('CIN', 'DET') : 215,\t('CIN', 'MIN') : 592,\t('CIN', 'KC') : 535,\t('CIN', 'OAK') : 2021,\t('CIN', 'TEX') : 807,\t('CIN', 'LAA') : 1867,\t('CIN', 'SEA') : 1961,\n",
    "    ('STL', 'BOS') : 1034,\t('STL', 'BAL') : 731,\t('STL', 'TB') : 862,\t('STL', 'TOR') : 660,\t('STL', 'CLE') : 484,\t('STL', 'DET') : 435,\t('STL', 'MIN') : 460,\t('STL', 'KC') : 237,\t('STL', 'OAK') : 1728,\t('STL', 'TEX') : 541,\t('STL', 'LAA') : 1564,\t('STL', 'SEA') : 1721,\n",
    "    ('HOU', 'BOS') : 1617,\t('HOU', 'BAL') : 1261,\t('HOU', 'TB') : 807,\t('HOU', 'TOR') : 1317,\t('HOU', 'CLE') : 1121,\t('HOU', 'DET') : 1102,\t('HOU', 'MIN') : 1067,\t('HOU', 'KC') : 654,\t('HOU', 'OAK') : 1623,\t('HOU', 'TEX') : 242,\t('HOU', 'LAA') : 1332,\t('HOU', 'SEA') : 1891,\n",
    "    ('MIL', 'BOS') : 856,\t('MIL', 'BAL') : 646,\t('MIL', 'TB') : 1078,\t('MIL', 'TOR') : 431,\t('MIL', 'CLE') : 333,\t('MIL', 'DET') : 239,\t('MIL', 'MIN') : 296,\t('MIL', 'KC') : 442,\t('MIL', 'OAK') : 1827,\t('MIL', 'TEX') : 846,\t('MIL', 'LAA') : 1724,\t('MIL', 'SEA') : 1691,\n",
    "    ('ARZ', 'BOS') : 2295,\t('ARZ', 'BAL') : 2001,\t('ARZ', 'TB') : 1801,\t('ARZ', 'TOR') : 1888,\t('ARZ', 'CLE') : 1741,\t('ARZ', 'DET') : 1670,\t('ARZ', 'MIN') : 1278,\t('ARZ', 'KC') : 1047,\t('ARZ', 'OAK') : 635,\t('ARZ', 'TEX') : 885,\t('ARZ', 'LAA') : 324,\t('ARZ', 'SEA') : 1111,\n",
    "    ('LA', 'BOS') : 2600,\t('LA', 'BAL') : 2325,\t('LA', 'TB') : 2165,\t('LA', 'TOR') : 2181,\t('LA', 'CLE') : 2050,\t('LA', 'DET') : 1973,\t('LA', 'MIN') : 1531,\t('LA', 'KC') : 1364,\t('LA', 'OAK') : 328,\t('LA', 'TEX') : 1246,\t('LA', 'LAA') : 44,\t('LA', 'SEA') : 958,\n",
    "    ('SF', 'BOS') : 2695,\t('SF', 'BAL') : 2454,\t('SF', 'TB') : 2398,\t('SF', 'TOR') : 2267,\t('SF', 'CLE') : 2160,\t('SF', 'DET') : 2074,\t('SF', 'MIN') : 1586,\t('SF', 'KC') : 1504,\t('SF', 'OAK') : 13,\t('SF', 'TEX') : 1474,\t('SF', 'LAA') : 374,\t('SF', 'SEA') : 687,\n",
    "    ('SD', 'BOS') : 2581,\t('SD', 'BAL') : 2294,\t('SD', 'TB') : 2090,\t('SD', 'TOR') : 2168,\t('SD', 'CLE') : 2028,\t('SD', 'DET') : 1954,\t('SD', 'MIN') : 1535,\t('SD', 'KC') : 1335,\t('SD', 'OAK') : 452,\t('SD', 'TEX') : 1180,\t('SD', 'LAA') : 89,\t('SD', 'SEA') : 1071,\n",
    "    ('COL', 'BOS') : 1753,\t('COL', 'BAL') : 1495,\t('COL', 'TB') : 1510,\t('COL', 'TOR') : 1331,\t('COL', 'CLE') : 1207,\t('COL', 'DET') : 1126,\t('COL', 'MIN') : 689,\t('COL', 'KC') : 544,\t('COL', 'OAK') : 949,\t('COL', 'TEX') : 643,\t('COL', 'LAA') : 827,\t('COL', 'SEA') : 1033\n",
    "}"
   ]
  },
  {
   "cell_type": "code",
   "execution_count": 2,
   "metadata": {},
   "outputs": [],
   "source": [
    "from docplex.mp.model import Model\n",
    "\n",
    "# Create an instance of a model\n",
    "mdl = Model()"
   ]
  },
  {
   "cell_type": "code",
   "execution_count": 3,
   "metadata": {},
   "outputs": [],
   "source": [
    "# Create a binary variable for each potential pair\n",
    "x = mdl.continuous_var_matrix(NationalLeague, AmericanLeague, name=lambda ns: '_'.join(ns))"
   ]
  },
  {
   "cell_type": "code",
   "execution_count": 4,
   "metadata": {},
   "outputs": [],
   "source": [
    "# Constraint: each team in NationalLeague is paired with exactly one team in AmericanLeague\n",
    "for team_N in NationalLeague:\n",
    "    mdl.add_constraint(mdl.sum(x[team_N, team_A] for team_A in AmericanLeague) <= 1)\n",
    "\n",
    "# Constraint: each team in AmericanLeague is paired with exactly one team in NationalLeague\n",
    "for team_A in AmericanLeague:\n",
    "    mdl.add_constraint(mdl.sum(x[team_N, team_A] for team_N in NationalLeague) == 1)"
   ]
  },
  {
   "cell_type": "code",
   "execution_count": 5,
   "metadata": {},
   "outputs": [],
   "source": [
    "# Objective: minimize total distance\n",
    "mdl.minimize(mdl.sum(Distance[team_N, team_A]*x[team_N, team_A] for team_N in NationalLeague for team_A in AmericanLeague))"
   ]
  },
  {
   "cell_type": "code",
   "execution_count": 6,
   "metadata": {},
   "outputs": [
    {
     "name": "stdout",
     "output_type": "stream",
     "text": [
      "Version identifier: 22.1.1.0 | 2022-11-27 | 9160aff4d\n",
      "CPXPARAM_Read_DataCheck                          1\n",
      "Tried aggregator 1 time.\n",
      "No LP presolve or aggregator reductions.\n",
      "Presolve time = 0.00 sec. (0.07 ticks)\n",
      "Initializing dual steep norms . . .\n",
      "\n",
      "Iteration log . . .\n",
      "Iteration:     1   Dual objective     =          2569.000000\n",
      "Solution status:  JobSolveStatus.OPTIMAL_SOLUTION\n"
     ]
    }
   ],
   "source": [
    "# Solve the model\n",
    "mdl.solve(log_output=True)\n",
    "\n",
    "# Print the status\n",
    "print(\"Solution status: \", mdl.get_solve_status())"
   ]
  },
  {
   "cell_type": "code",
   "execution_count": 7,
   "metadata": {},
   "outputs": [
    {
     "name": "stdout",
     "output_type": "stream",
     "text": [
      "Rival pair: WAS - BAL\n",
      "Rival pair: PHI - BOS\n",
      "Rival pair: ATL - CLE\n",
      "Rival pair: FLA - TB\n",
      "Rival pair: PIT - TOR\n",
      "Rival pair: CIN - DET\n",
      "Rival pair: STL - KC\n",
      "Rival pair: HOU - TEX\n",
      "Rival pair: MIL - MIN\n",
      "Rival pair: LA - SEA\n",
      "Rival pair: SF - OAK\n",
      "Rival pair: SD - LAA\n"
     ]
    }
   ],
   "source": [
    "# Print the solution\n",
    "for team_N in NationalLeague:\n",
    "    for team_A in AmericanLeague:\n",
    "        if x[team_N, team_A].solution_value > 0:\n",
    "            print(f\"Rival pair: {team_N} - {team_A}\")"
   ]
  },
  {
   "cell_type": "markdown",
   "metadata": {},
   "source": [
    "## In class excercise"
   ]
  },
  {
   "cell_type": "code",
   "execution_count": 8,
   "metadata": {},
   "outputs": [],
   "source": [
    "# Create an instance of a model\n",
    "mdl = Model()"
   ]
  },
  {
   "cell_type": "code",
   "execution_count": 9,
   "metadata": {},
   "outputs": [],
   "source": [
    "assign = mdl.continuous_var_matrix(NationalLeague, AmericanLeague, lb=0, ub=1, name='assign')"
   ]
  },
  {
   "cell_type": "code",
   "execution_count": 10,
   "metadata": {},
   "outputs": [],
   "source": [
    "objective = mdl.sum(assign[(n,l)] * Distance[(n,l)] for n in NationalLeague for l in AmericanLeague)\n",
    "mdl.minimize(objective)"
   ]
  },
  {
   "cell_type": "code",
   "execution_count": 11,
   "metadata": {},
   "outputs": [],
   "source": [
    "mdl.minimize(objective)"
   ]
  },
  {
   "cell_type": "code",
   "execution_count": 12,
   "metadata": {},
   "outputs": [],
   "source": [
    "#Each bidder assigned at most one zone\n",
    "for n in NationalLeague:\n",
    "    mdl.add_constraint(mdl.sum(assign[(n,l)] for l in AmericanLeague) <= 1)"
   ]
  },
  {
   "cell_type": "code",
   "execution_count": 13,
   "metadata": {},
   "outputs": [],
   "source": [
    "#Each bidder assigned at most one zone\n",
    "for l in AmericanLeague:\n",
    "     mdl.add_constraint(mdl.sum(assign[(n,l)] for n in NationalLeague) == 1)"
   ]
  },
  {
   "cell_type": "code",
   "execution_count": 14,
   "metadata": {},
   "outputs": [
    {
     "data": {
      "text/plain": [
       "docplex.mp.SolveDetails(time=0,status='optimal')"
      ]
     },
     "execution_count": 14,
     "metadata": {},
     "output_type": "execute_result"
    }
   ],
   "source": [
    "mdl.solve()\n",
    "mdl.get_solve_details()"
   ]
  },
  {
   "cell_type": "code",
   "execution_count": 15,
   "metadata": {},
   "outputs": [
    {
     "name": "stdout",
     "output_type": "stream",
     "text": [
      "objective: 3304.000\n",
      "status: OPTIMAL_SOLUTION(2)\n",
      "  assign_WAS_BAL=1.000\n",
      "  assign_PHI_BOS=1.000\n",
      "  assign_ATL_CLE=1.000\n",
      "  assign_FLA_TB=1.000\n",
      "  assign_PIT_TOR=1.000\n",
      "  assign_CIN_DET=1.000\n",
      "  assign_STL_KC=1.000\n",
      "  assign_HOU_TEX=1.000\n",
      "  assign_MIL_MIN=1.000\n",
      "  assign_LA_SEA=1.000\n",
      "  assign_SF_OAK=1.000\n",
      "  assign_SD_LAA=1.000\n"
     ]
    }
   ],
   "source": [
    "mdl.print_solution()"
   ]
  },
  {
   "cell_type": "code",
   "execution_count": 16,
   "metadata": {},
   "outputs": [
    {
     "name": "stdout",
     "output_type": "stream",
     "text": [
      "WAS plays BAL\n",
      "PHI plays BOS\n",
      "ATL plays CLE\n",
      "FLA plays TB\n",
      "PIT plays TOR\n",
      "CIN plays DET\n",
      "STL plays KC\n",
      "HOU plays TEX\n",
      "MIL plays MIN\n",
      "LA plays SEA\n",
      "SF plays OAK\n",
      "SD plays LAA\n"
     ]
    }
   ],
   "source": [
    "# Print the solution\n",
    "for team_N in NationalLeague:\n",
    "    for team_A in AmericanLeague:\n",
    "        if assign[team_N,team_A].solution_value >= 0.999:\n",
    "            print(team_N + ' plays ' + team_A)"
   ]
  }
 ],
 "metadata": {
  "kernelspec": {
   "display_name": "Python 3 (ipykernel)",
   "language": "python",
   "name": "python3"
  },
  "language_info": {
   "codemirror_mode": {
    "name": "ipython",
    "version": 3
   },
   "file_extension": ".py",
   "mimetype": "text/x-python",
   "name": "python",
   "nbconvert_exporter": "python",
   "pygments_lexer": "ipython3",
   "version": "3.9.16"
  }
 },
 "nbformat": 4,
 "nbformat_minor": 2
}

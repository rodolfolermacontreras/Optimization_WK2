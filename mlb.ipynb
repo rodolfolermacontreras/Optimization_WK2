{
 "cells": [
  {
   "cell_type": "code",
   "execution_count": 1,
   "metadata": {},
   "outputs": [],
   "source": [
    "# MLB Assignment Problem: data\n",
    "\n",
    "NationalLeague = ['WAS', 'PHI', 'ATL', 'FLA', 'PIT', 'CIN', 'STL', 'HOU', 'MIL', 'ARZ', 'LA', 'SF', 'SD', 'COL']\n",
    "AmericanLeague = ['BOS', 'BAL', 'TB', 'TOR', 'CLE', 'DET', 'MIN', 'KC', 'OAK', 'TEX', 'LAA', 'SEA']\n",
    "\n",
    "Distance = {\n",
    "    ('WAS', 'BOS') : 394,\t('WAS', 'BAL') : 30,\t('WAS', 'TB') : 803,\t('WAS', 'TOR') : 358,\t('WAS', 'CLE') : 310,\t('WAS', 'DET') : 408,\t('WAS', 'MIN') : 935,\t('WAS', 'KC') : 936,\t('WAS', 'OAK') : 2428,\t('WAS', 'TEX') : 1178,\t('WAS', 'LAA') : 2276,\t('WAS', 'SEA') : 2330,\n",
    "    ('PHI', 'BOS') : 255,\t('PHI', 'BAL') : 109,\t('PHI', 'TB') : 929,\t('PHI', 'TOR') : 338,\t('PHI', 'CLE') : 369,\t('PHI', 'DET') : 461,\t('PHI', 'MIN') : 988,\t('PHI', 'KC') : 1046,\t('PHI', 'OAK') : 2515,\t('PHI', 'TEX') : 1305,\t('PHI', 'LAA') : 2379,\t('PHI', 'SEA') : 2383,\n",
    "    ('ATL', 'BOS') : 921,\t('ATL', 'BAL') : 557,\t('ATL', 'TB') : 418,\t('ATL', 'TOR') : 724,\t('ATL', 'CLE') : 536,\t('ATL', 'DET') : 575,\t('ATL', 'MIN') : 900,\t('ATL', 'KC') : 676,\t('ATL', 'OAK') : 2127,\t('ATL', 'TEX') : 727,\t('ATL', 'LAA') : 1913,\t('ATL', 'SEA') : 2182,\n",
    "    ('FLA', 'BOS') : 1270,\t('FLA', 'BAL') : 960,\t('FLA', 'TB') : 207,\t('FLA', 'TOR') : 1249,\t('FLA', 'CLE') : 1094,\t('FLA', 'DET') : 1157,\t('FLA', 'MIN') : 1515,\t('FLA', 'KC') : 1241,\t('FLA', 'OAK') : 2571,\t('FLA', 'TEX') : 1109,\t('FLA', 'LAA') : 2297,\t('FLA', 'SEA') : 2732,\n",
    "    ('PIT', 'BOS') : 480,\t('PIT', 'BAL') : 200,\t('PIT', 'TB') : 865,\t('PIT', 'TOR') : 226,\t('PIT', 'CLE') : 115,\t('PIT', 'DET') : 213,\t('PIT', 'MIN') : 740,\t('PIT', 'KC') : 781,\t('PIT', 'OAK') : 2249,\t('PIT', 'TEX') : 1063,\t('PIT', 'LAA') : 2113,\t('PIT', 'SEA') : 2136,\n",
    "    ('CIN', 'BOS') : 739,\t('CIN', 'BAL') : 428,\t('CIN', 'TB') : 782,\t('CIN', 'TOR') : 409,\t('CIN', 'CLE') : 211,\t('CIN', 'DET') : 215,\t('CIN', 'MIN') : 592,\t('CIN', 'KC') : 535,\t('CIN', 'OAK') : 2021,\t('CIN', 'TEX') : 807,\t('CIN', 'LAA') : 1867,\t('CIN', 'SEA') : 1961,\n",
    "    ('STL', 'BOS') : 1034,\t('STL', 'BAL') : 731,\t('STL', 'TB') : 862,\t('STL', 'TOR') : 660,\t('STL', 'CLE') : 484,\t('STL', 'DET') : 435,\t('STL', 'MIN') : 460,\t('STL', 'KC') : 237,\t('STL', 'OAK') : 1728,\t('STL', 'TEX') : 541,\t('STL', 'LAA') : 1564,\t('STL', 'SEA') : 1721,\n",
    "    ('HOU', 'BOS') : 1617,\t('HOU', 'BAL') : 1261,\t('HOU', 'TB') : 807,\t('HOU', 'TOR') : 1317,\t('HOU', 'CLE') : 1121,\t('HOU', 'DET') : 1102,\t('HOU', 'MIN') : 1067,\t('HOU', 'KC') : 654,\t('HOU', 'OAK') : 1623,\t('HOU', 'TEX') : 242,\t('HOU', 'LAA') : 1332,\t('HOU', 'SEA') : 1891,\n",
    "    ('MIL', 'BOS') : 856,\t('MIL', 'BAL') : 646,\t('MIL', 'TB') : 1078,\t('MIL', 'TOR') : 431,\t('MIL', 'CLE') : 333,\t('MIL', 'DET') : 239,\t('MIL', 'MIN') : 296,\t('MIL', 'KC') : 442,\t('MIL', 'OAK') : 1827,\t('MIL', 'TEX') : 846,\t('MIL', 'LAA') : 1724,\t('MIL', 'SEA') : 1691,\n",
    "    ('ARZ', 'BOS') : 2295,\t('ARZ', 'BAL') : 2001,\t('ARZ', 'TB') : 1801,\t('ARZ', 'TOR') : 1888,\t('ARZ', 'CLE') : 1741,\t('ARZ', 'DET') : 1670,\t('ARZ', 'MIN') : 1278,\t('ARZ', 'KC') : 1047,\t('ARZ', 'OAK') : 635,\t('ARZ', 'TEX') : 885,\t('ARZ', 'LAA') : 324,\t('ARZ', 'SEA') : 1111,\n",
    "    ('LA', 'BOS') : 2600,\t('LA', 'BAL') : 2325,\t('LA', 'TB') : 2165,\t('LA', 'TOR') : 2181,\t('LA', 'CLE') : 2050,\t('LA', 'DET') : 1973,\t('LA', 'MIN') : 1531,\t('LA', 'KC') : 1364,\t('LA', 'OAK') : 328,\t('LA', 'TEX') : 1246,\t('LA', 'LAA') : 44,\t('LA', 'SEA') : 958,\n",
    "    ('SF', 'BOS') : 2695,\t('SF', 'BAL') : 2454,\t('SF', 'TB') : 2398,\t('SF', 'TOR') : 2267,\t('SF', 'CLE') : 2160,\t('SF', 'DET') : 2074,\t('SF', 'MIN') : 1586,\t('SF', 'KC') : 1504,\t('SF', 'OAK') : 13,\t('SF', 'TEX') : 1474,\t('SF', 'LAA') : 374,\t('SF', 'SEA') : 687,\n",
    "    ('SD', 'BOS') : 2581,\t('SD', 'BAL') : 2294,\t('SD', 'TB') : 2090,\t('SD', 'TOR') : 2168,\t('SD', 'CLE') : 2028,\t('SD', 'DET') : 1954,\t('SD', 'MIN') : 1535,\t('SD', 'KC') : 1335,\t('SD', 'OAK') : 452,\t('SD', 'TEX') : 1180,\t('SD', 'LAA') : 89,\t('SD', 'SEA') : 1071,\n",
    "    ('COL', 'BOS') : 1753,\t('COL', 'BAL') : 1495,\t('COL', 'TB') : 1510,\t('COL', 'TOR') : 1331,\t('COL', 'CLE') : 1207,\t('COL', 'DET') : 1126,\t('COL', 'MIN') : 689,\t('COL', 'KC') : 544,\t('COL', 'OAK') : 949,\t('COL', 'TEX') : 643,\t('COL', 'LAA') : 827,\t('COL', 'SEA') : 1033\n",
    "}"
   ]
  },
  {
   "cell_type": "code",
   "execution_count": 2,
   "metadata": {},
   "outputs": [],
   "source": [
    "from docplex.mp.model import Model\n",
    "\n",
    "# Create an instance of a model\n",
    "mdl = Model()"
   ]
  },
  {
   "cell_type": "code",
   "execution_count": 3,
   "metadata": {},
   "outputs": [],
   "source": [
    "# Create a binary variable for each potential pair\n",
    "x = mdl.binary_var_matrix(NationalLeague, AmericanLeague, name=lambda ns: '_'.join(ns))"
   ]
  },
  {
   "cell_type": "code",
   "execution_count": 4,
   "metadata": {},
   "outputs": [],
   "source": [
    "# Constraint: each team in NationalLeague is paired with exactly one team in AmericanLeague\n",
    "for team_N in NationalLeague:\n",
    "    mdl.add_constraint(mdl.sum(x[team_N, team_A] for team_A in AmericanLeague) == 1)\n",
    "\n",
    "# Constraint: each team in AmericanLeague is paired with exactly one team in NationalLeague\n",
    "for team_A in AmericanLeague:\n",
    "    mdl.add_constraint(mdl.sum(x[team_N, team_A] for team_N in NationalLeague) == 1)"
   ]
  },
  {
   "cell_type": "code",
   "execution_count": 5,
   "metadata": {},
   "outputs": [],
   "source": [
    "# Objective: minimize total distance\n",
    "mdl.minimize(mdl.sum(Distance[team_N, team_A]*x[team_N, team_A] for team_N in NationalLeague for team_A in AmericanLeague))"
   ]
  },
  {
   "cell_type": "code",
   "execution_count": 6,
   "metadata": {},
   "outputs": [
    {
     "name": "stdout",
     "output_type": "stream",
     "text": [
      "Version identifier: 22.1.1.0 | 2022-11-27 | 9160aff4d\n",
      "CPXPARAM_Read_DataCheck                          1\n",
      "Tried aggregator 1 time.\n",
      "Reduced MIP has 26 rows, 168 columns, and 336 nonzeros.\n",
      "Reduced MIP has 168 binaries, 0 generals, 0 SOSs, and 0 indicators.\n",
      "Presolve time = 0.00 sec. (0.18 ticks)\n",
      "Probing time = 0.00 sec. (0.23 ticks)\n",
      "Tried aggregator 1 time.\n",
      "Detecting symmetries...\n",
      "Reduced MIP has 26 rows, 168 columns, and 336 nonzeros.\n",
      "Reduced MIP has 168 binaries, 0 generals, 0 SOSs, and 0 indicators.\n",
      "Presolve time = 0.00 sec. (0.21 ticks)\n",
      "Probing time = 0.00 sec. (0.23 ticks)\n",
      "Clique table members: 26.\n",
      "MIP emphasis: balance optimality and feasibility.\n",
      "MIP search method: dynamic search.\n",
      "Parallel mode: deterministic, using up to 20 threads.\n",
      "Root relaxation solution time = 0.00 sec. (0.11 ticks)\n",
      "\n",
      "        Nodes                                         Cuts/\n",
      "   Node  Left     Objective  IInf  Best Integer    Best Bound    ItCnt     Gap\n",
      "\n",
      "      0     0    infeasible                                         18         \n",
      "\n",
      "Root node processing (before b&c):\n",
      "  Real time             =    0.01 sec. (22.05 ticks)\n",
      "Parallel b&c, 20 threads:\n",
      "  Real time             =    0.00 sec. (0.00 ticks)\n",
      "  Sync time (average)   =    0.00 sec.\n",
      "  Wait time (average)   =    0.00 sec.\n",
      "                          ------------\n",
      "Total (root+branch&cut) =    0.01 sec. (22.05 ticks)\n",
      "Solution status:  JobSolveStatus.INFEASIBLE_SOLUTION\n"
     ]
    }
   ],
   "source": [
    "# Solve the model\n",
    "mdl.solve(log_output=True)\n",
    "\n",
    "# Print the status\n",
    "print(\"Solution status: \", mdl.get_solve_status())"
   ]
  },
  {
   "cell_type": "code",
   "execution_count": 7,
   "metadata": {},
   "outputs": [
    {
     "ename": "DOcplexException",
     "evalue": "Model<docplex_model1> did not solve successfully",
     "output_type": "error",
     "traceback": [
      "\u001b[1;31m---------------------------------------------------------------------------\u001b[0m",
      "\u001b[1;31mDOcplexException\u001b[0m                          Traceback (most recent call last)",
      "Cell \u001b[1;32mIn[7], line 4\u001b[0m\n\u001b[0;32m      2\u001b[0m \u001b[38;5;28;01mfor\u001b[39;00m team_N \u001b[38;5;129;01min\u001b[39;00m NationalLeague:\n\u001b[0;32m      3\u001b[0m     \u001b[38;5;28;01mfor\u001b[39;00m team_A \u001b[38;5;129;01min\u001b[39;00m AmericanLeague:\n\u001b[1;32m----> 4\u001b[0m         \u001b[38;5;28;01mif\u001b[39;00m \u001b[43mx\u001b[49m\u001b[43m[\u001b[49m\u001b[43mteam_N\u001b[49m\u001b[43m,\u001b[49m\u001b[43m \u001b[49m\u001b[43mteam_A\u001b[49m\u001b[43m]\u001b[49m\u001b[38;5;241;43m.\u001b[39;49m\u001b[43msolution_value\u001b[49m \u001b[38;5;241m>\u001b[39m \u001b[38;5;241m0\u001b[39m:\n\u001b[0;32m      5\u001b[0m             \u001b[38;5;28mprint\u001b[39m(\u001b[38;5;124mf\u001b[39m\u001b[38;5;124m\"\u001b[39m\u001b[38;5;124mRival pair: \u001b[39m\u001b[38;5;132;01m{\u001b[39;00mteam_N\u001b[38;5;132;01m}\u001b[39;00m\u001b[38;5;124m - \u001b[39m\u001b[38;5;132;01m{\u001b[39;00mteam_A\u001b[38;5;132;01m}\u001b[39;00m\u001b[38;5;124m\"\u001b[39m)\n",
      "File \u001b[1;32m~\\Anaconda3\\envs\\MyDOCplex\\lib\\site-packages\\docplex\\mp\\dvar.py:230\u001b[0m, in \u001b[0;36mVar.solution_value\u001b[1;34m(self)\u001b[0m\n\u001b[0;32m    221\u001b[0m \u001b[38;5;129m@property\u001b[39m\n\u001b[0;32m    222\u001b[0m \u001b[38;5;28;01mdef\u001b[39;00m \u001b[38;5;21msolution_value\u001b[39m(\u001b[38;5;28mself\u001b[39m):\n\u001b[0;32m    223\u001b[0m     \u001b[38;5;124;03m\"\"\" This property returns the solution value of the variable.\u001b[39;00m\n\u001b[0;32m    224\u001b[0m \n\u001b[0;32m    225\u001b[0m \u001b[38;5;124;03m    Raises:\u001b[39;00m\n\u001b[1;32m   (...)\u001b[0m\n\u001b[0;32m    228\u001b[0m \n\u001b[0;32m    229\u001b[0m \u001b[38;5;124;03m    \"\"\"\u001b[39;00m\n\u001b[1;32m--> 230\u001b[0m     \u001b[38;5;28;43mself\u001b[39;49m\u001b[38;5;241;43m.\u001b[39;49m\u001b[43mmodel\u001b[49m\u001b[38;5;241;43m.\u001b[39;49m\u001b[43m_check_has_solution\u001b[49m\u001b[43m(\u001b[49m\u001b[43m)\u001b[49m\n\u001b[0;32m    231\u001b[0m     \u001b[38;5;28;01mreturn\u001b[39;00m \u001b[38;5;28mself\u001b[39m\u001b[38;5;241m.\u001b[39m_raw_solution_value()\n",
      "File \u001b[1;32m~\\Anaconda3\\envs\\MyDOCplex\\lib\\site-packages\\docplex\\mp\\model.py:5189\u001b[0m, in \u001b[0;36mModel._check_has_solution\u001b[1;34m(self)\u001b[0m\n\u001b[0;32m   5187\u001b[0m     \u001b[38;5;28mself\u001b[39m\u001b[38;5;241m.\u001b[39mfatal(\u001b[38;5;124m\"\u001b[39m\u001b[38;5;124mModel<\u001b[39m\u001b[38;5;132;01m{0}\u001b[39;00m\u001b[38;5;124m> has not been solved yet\u001b[39m\u001b[38;5;124m\"\u001b[39m, \u001b[38;5;28mself\u001b[39m\u001b[38;5;241m.\u001b[39mname)\n\u001b[0;32m   5188\u001b[0m \u001b[38;5;28;01melse\u001b[39;00m:\n\u001b[1;32m-> 5189\u001b[0m     \u001b[38;5;28;43mself\u001b[39;49m\u001b[38;5;241;43m.\u001b[39;49m\u001b[43mfatal\u001b[49m\u001b[43m(\u001b[49m\u001b[38;5;124;43m\"\u001b[39;49m\u001b[38;5;124;43mModel<\u001b[39;49m\u001b[38;5;132;43;01m{0}\u001b[39;49;00m\u001b[38;5;124;43m> did not solve successfully\u001b[39;49m\u001b[38;5;124;43m\"\u001b[39;49m\u001b[43m,\u001b[49m\u001b[43m \u001b[49m\u001b[38;5;28;43mself\u001b[39;49m\u001b[38;5;241;43m.\u001b[39;49m\u001b[43mname\u001b[49m\u001b[43m)\u001b[49m\n",
      "File \u001b[1;32m~\\Anaconda3\\envs\\MyDOCplex\\lib\\site-packages\\docplex\\mp\\model.py:1080\u001b[0m, in \u001b[0;36mModel.fatal\u001b[1;34m(self, msg, *args)\u001b[0m\n\u001b[0;32m   1079\u001b[0m \u001b[38;5;28;01mdef\u001b[39;00m \u001b[38;5;21mfatal\u001b[39m(\u001b[38;5;28mself\u001b[39m, msg, \u001b[38;5;241m*\u001b[39margs):\n\u001b[1;32m-> 1080\u001b[0m     \u001b[38;5;28;43mself\u001b[39;49m\u001b[38;5;241;43m.\u001b[39;49m\u001b[43m_error_handler\u001b[49m\u001b[38;5;241;43m.\u001b[39;49m\u001b[43mfatal\u001b[49m\u001b[43m(\u001b[49m\u001b[43mmsg\u001b[49m\u001b[43m,\u001b[49m\u001b[43m \u001b[49m\u001b[43margs\u001b[49m\u001b[43m)\u001b[49m\n",
      "File \u001b[1;32m~\\Anaconda3\\envs\\MyDOCplex\\lib\\site-packages\\docplex\\mp\\error_handler.py:210\u001b[0m, in \u001b[0;36mAbstractErrorHandler.fatal\u001b[1;34m(self, msg, args)\u001b[0m\n\u001b[0;32m    208\u001b[0m resolved_message \u001b[38;5;241m=\u001b[39m resolve_pattern(msg, args)\n\u001b[0;32m    209\u001b[0m docplex_error_stop_here()\n\u001b[1;32m--> 210\u001b[0m \u001b[38;5;28;01mraise\u001b[39;00m DOcplexException(resolved_message)\n",
      "\u001b[1;31mDOcplexException\u001b[0m: Model<docplex_model1> did not solve successfully"
     ]
    }
   ],
   "source": [
    "# Print the solution\n",
    "for team_N in NationalLeague:\n",
    "    for team_A in AmericanLeague:\n",
    "        if x[team_N, team_A].solution_value > 0:\n",
    "            print(f\"Rival pair: {team_N} - {team_A}\")"
   ]
  }
 ],
 "metadata": {
  "kernelspec": {
   "display_name": "Python 3 (ipykernel)",
   "language": "python",
   "name": "python3"
  },
  "language_info": {
   "codemirror_mode": {
    "name": "ipython",
    "version": 3
   },
   "file_extension": ".py",
   "mimetype": "text/x-python",
   "name": "python",
   "nbconvert_exporter": "python",
   "pygments_lexer": "ipython3",
   "version": "3.9.16"
  }
 },
 "nbformat": 4,
 "nbformat_minor": 2
}
